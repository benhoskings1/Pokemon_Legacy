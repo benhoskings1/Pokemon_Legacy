{
 "cells": [
  {
   "cell_type": "code",
   "id": "initial_id",
   "metadata": {
    "collapsed": true,
    "jupyter": {
     "is_executing": true
    }
   },
   "source": "import pandas as pd",
   "outputs": [],
   "execution_count": null
  },
  {
   "metadata": {},
   "cell_type": "code",
   "outputs": [],
   "execution_count": null,
   "source": [
    "item_data = pd.read_csv(\"game_data/items.tsv\", delimiter=\"\\t\", index_col=0)\n",
    "pokeballs = pd.read_csv(\"game_data/Items/pokeballs.tsv\", delimiter=\"\\t\", index_col=0)\n",
    "medicine = pd.read_csv(\"game_data/Items/medicine.tsv\", delimiter=\"\\t\", index_col=0)\n",
    "\n",
    "item_data = item_data.merge(medicine, on=\"item_id\", how=\"left\").merge(pokeballs, on=\"item_id\", how=\"left\")"
   ],
   "id": "aa3133e2e35d72cf"
  }
 ],
 "metadata": {
  "kernelspec": {
   "display_name": "Python 3",
   "language": "python",
   "name": "python3"
  },
  "language_info": {
   "codemirror_mode": {
    "name": "ipython",
    "version": 2
   },
   "file_extension": ".py",
   "mimetype": "text/x-python",
   "name": "python",
   "nbconvert_exporter": "python",
   "pygments_lexer": "ipython2",
   "version": "2.7.6"
  }
 },
 "nbformat": 4,
 "nbformat_minor": 5
}
